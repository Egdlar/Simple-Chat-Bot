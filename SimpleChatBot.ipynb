{
  "nbformat": 4,
  "nbformat_minor": 0,
  "metadata": {
    "colab": {
      "provenance": [],
      "authorship_tag": "ABX9TyOAouSOGbv8dzgjsRrZwwre",
      "include_colab_link": true
    },
    "kernelspec": {
      "name": "python3",
      "display_name": "Python 3"
    },
    "language_info": {
      "name": "python"
    }
  },
  "cells": [
    {
      "cell_type": "markdown",
      "metadata": {
        "id": "view-in-github",
        "colab_type": "text"
      },
      "source": [
        "<a href=\"https://colab.research.google.com/github/Egdlar/Simple-Chat-Bot/blob/main/SimpleChatBot.ipynb\" target=\"_parent\"><img src=\"https://colab.research.google.com/assets/colab-badge.svg\" alt=\"Open In Colab\"/></a>"
      ]
    },
    {
      "cell_type": "code",
      "execution_count": null,
      "metadata": {
        "colab": {
          "base_uri": "https://localhost:8080/"
        },
        "id": "o9mxvlfz4pX3",
        "outputId": "e7412038-0b47-48af-db87-5a2a6bac1cc7"
      },
      "outputs": [
        {
          "output_type": "stream",
          "name": "stdout",
          "text": [
            "Welcome to the Government of the Philippines Chatbot!\n",
            "I can provide information about various government agencies and services.\n",
            "Type 'exit' to exit the chatbot.\n",
            "You: Department of Education\n",
            "The Department of Education (DepEd) is responsible for managing and supervising the country's basic education system.\n",
            "Website: https://www.deped.gov.ph/\n",
            "You: Department of Transportation\n",
            "The Department of Transportation (DOTr) is responsible for planning, developing, and maintaining an efficient transportation system in the country.\n",
            "Website: https://caraga.dotr.gov.ph/, https://lto.gov.ph/\n",
            "You: DOH\n",
            "I'm sorry, I don't understand your question. Can you please rephrase it or ask about a different topic related to the government of the Philippines?\n",
            "For example 'Type: Department of Education' \n",
            "You: Department of Health\n",
            "The Department of Health (DOH) is responsible for ensuring the availability of health services and promoting health and well-being.\n",
            "Website: https://doh.gov.ph/\n",
            "You: exit\n",
            "Thank you for using the chatbot! Have a great day.\n"
          ]
        }
      ],
      "source": [
        "import re\n",
        "\n",
        "def government_chatbot():\n",
        "    print(\"Welcome to the Government of the Philippines Chatbot!\")\n",
        "    print(\"I can provide information about various government agencies and services.\")\n",
        "    print(\"Type 'exit' to exit the chatbot.\")\n",
        "    while True:\n",
        "        user_input = input(\"You: \")\n",
        "        if re.match(r'exit', user_input):\n",
        "            print(\"Thank you for using the chatbot! Have a great day.\")\n",
        "            break\n",
        "        elif re.match(r'Department of Education', user_input):\n",
        "            print(\"The Department of Education (DepEd) is responsible for managing and supervising the country's basic education system.\")\n",
        "            print(\"Website: https://www.deped.gov.ph/\")\n",
        "        elif re.match(r'Department of Health', user_input):\n",
        "            print(\"The Department of Health (DOH) is responsible for ensuring the availability of health services and promoting health and well-being.\")\n",
        "            print(\"Website: https://doh.gov.ph/\")\n",
        "        elif re.match(r'Department of Social Welfare and Development', user_input):\n",
        "            print(\"The Department of Social Welfare and Development (DSWD) is responsible for providing social protection and welfare services to vulnerable and marginalized individuals and communities.\")\n",
        "            print(\"Website: https://www.dswd.gov.ph/\")\n",
        "        elif re.match(r'Department of Transportation', user_input):\n",
        "            print(\"The Department of Transportation (DOTr) is responsible for planning, developing, and maintaining an efficient transportation system in the country.\")\n",
        "            print(\"Website: https://caraga.dotr.gov.ph/, https://lto.gov.ph/\")\n",
        "        elif re.match(r'Department of Justice', user_input):\n",
        "            print(\"The Department of Justice (DOJ) is the government's principal law agency. As such, the DOJ serves as the government's prosecution arm and administers the government's criminal justice system by investigating crimes, prosecuting offenders and overseeing the correctional system.\")\n",
        "            print(\"Website: https://www.doj.gov.ph/\")\n",
        "        elif re.match(r'Department of Tourism', user_input):\n",
        "            print(\"The Department of Tourism (DOT) is the primary planning, implementing, and regulatory government agency tasked to develop and promote the Philippine tourism.\")\n",
        "            print(\"Website: http://www.tourism.gov.ph/Default.aspx\")\n",
        "        elif re.match(r'Department of Information and Communication Technology', user_input):\n",
        "            print(\"The Department of Information and Communications Technology (DICT) shall be the primary policy, planning, coordinating, implementing, and administrative entity of the Executive Branch of the government that will plan, develop, and promote the national ICT development agenda. ( RA 10844)\")\n",
        "            print(\"Website: https://dict.gov.ph/contact-us/\")\n",
        "        elif re.match(r'Department of Science and Technology', user_input):\n",
        "            print(\"The Department of Science and Technology (DOST) is the primary science and technology body in the country, charged with pursuing the state policy of supporting local efforts in science, technology, and research and development.\")\n",
        "            print(\"Website: https://www.dost.gov.ph/\")\n",
        "        else:\n",
        "            print(\"I'm sorry, I don't understand your question. Can you please rephrase it or ask about a different topic related to the government of the Philippines?\")\n",
        "            print(\"For example 'Type: Department of Education' \")\n",
        "\n",
        "government_chatbot()\n"
      ]
    }
  ]
}